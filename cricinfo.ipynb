{
 "cells": [
  {
   "cell_type": "code",
   "execution_count": null,
   "metadata": {},
   "outputs": [],
   "source": [
    "# import pandas as pd\n",
    "import pandas as pd "
   ]
  },
  {
   "cell_type": "code",
   "execution_count": null,
   "metadata": {},
   "outputs": [],
   "source": [
    "#declaring the filepath\n",
    "file_path='E:\\\\Python\\\\cric_info_2_7_2024\\\\cricinfo_sample1.csv'  "
   ]
  },
  {
   "cell_type": "code",
   "execution_count": null,
   "metadata": {},
   "outputs": [],
   "source": [
    "#pd pandas is using read_csv to read the file data\n",
    "df = pd.read_csv(file_path)"
   ]
  },
  {
   "cell_type": "code",
   "execution_count": null,
   "metadata": {},
   "outputs": [],
   "source": [
    "#this data frame will show all the data with in the data frame\n",
    "df"
   ]
  },
  {
   "cell_type": "code",
   "execution_count": null,
   "metadata": {},
   "outputs": [],
   "source": [
    "#this print() will print the file data which is read by data frame here head() dispalys sample header data from file\n",
    "print(df.head(10))  "
   ]
  },
  {
   "cell_type": "code",
   "execution_count": null,
   "metadata": {},
   "outputs": [],
   "source": [
    "#rename multiple columns in a list\n",
    "df=df.rename(columns={'Mat':'Matches','Inns':'Innings','NO':'Not_Outs', 'HS':'Highest_Inns_Score','Ave':'Average','BF':'Balls_Faced','SR':'Batting_Strike_Rate'})"
   ]
  },
  {
   "cell_type": "code",
   "execution_count": null,
   "metadata": {},
   "outputs": [],
   "source": [
    "#this data frame will show all the data with in the data frame\n",
    "df.head(20)"
   ]
  },
  {
   "cell_type": "code",
   "execution_count": null,
   "metadata": {},
   "outputs": [],
   "source": [
    "#Check Null values\n",
    "df.isnull().any()"
   ]
  },
  {
   "cell_type": "code",
   "execution_count": null,
   "metadata": {},
   "outputs": [],
   "source": [
    "#check data for balls_faces\n",
    "df[df['Balls_Faced'].isna()==1]\n",
    "df[df['Batting_Strike_Rate'].isna()==1]"
   ]
  },
  {
   "cell_type": "code",
   "execution_count": null,
   "metadata": {},
   "outputs": [],
   "source": [
    "#lets fill data for nulls as 0\n",
    "df['Balls_Faced']=df['Balls_Faced'].fillna(0)"
   ]
  },
  {
   "cell_type": "code",
   "execution_count": null,
   "metadata": {},
   "outputs": [],
   "source": [
    "#lets fill data for nulls as 0\n",
    "df['Batting_Strike_Rate']=df['Batting_Strike_Rate'].fillna(0)"
   ]
  },
  {
   "cell_type": "code",
   "execution_count": null,
   "metadata": {},
   "outputs": [],
   "source": [
    "#check data from dataframe for a specific palyer where player name ='ED Weekes (WI)'\n",
    "df[df['Player']=='ED Weekes (WI)']"
   ]
  },
  {
   "cell_type": "code",
   "execution_count": null,
   "metadata": {},
   "outputs": [],
   "source": [
    "#check data from dataframe for a specific palyer where player name ='CL Walcott (WI)'\n",
    "df[df['Player']=='CL Walcott (WI)']"
   ]
  },
  {
   "cell_type": "code",
   "execution_count": null,
   "metadata": {},
   "outputs": [],
   "source": [
    "#check if have any duplicate records in the data frame\n",
    "df.duplicated().any()"
   ]
  },
  {
   "cell_type": "code",
   "execution_count": null,
   "metadata": {},
   "outputs": [],
   "source": [
    "#check duplicates specific to the column / for a column name\n",
    "df[df['Player'].duplicated()==1]"
   ]
  },
  {
   "cell_type": "code",
   "execution_count": null,
   "metadata": {},
   "outputs": [],
   "source": [
    "#check data for specific rows\n",
    "df[df['Player'].isin(['GA Headley (WI)','GS Sobers (WI)','JB Hobbs (ENG)','SR Tendulkar (IND)','V Kohli (IND)'])]"
   ]
  },
  {
   "cell_type": "code",
   "execution_count": null,
   "metadata": {},
   "outputs": [],
   "source": [
    "#drop duplicates and assign back to dataframe\n",
    "df=df.drop_duplicates()    "
   ]
  },
  {
   "cell_type": "code",
   "execution_count": null,
   "metadata": {},
   "outputs": [],
   "source": [
    "df"
   ]
  },
  {
   "cell_type": "code",
   "execution_count": null,
   "metadata": {},
   "outputs": [],
   "source": [
    "#check data for specific column in a data frame\n",
    "df['Span']"
   ]
  },
  {
   "cell_type": "code",
   "execution_count": null,
   "metadata": {},
   "outputs": [],
   "source": [
    "#split up Span column data into start and end date\n",
    "df['Span'].str.split(pat='-')"
   ]
  },
  {
   "cell_type": "code",
   "execution_count": null,
   "metadata": {},
   "outputs": [],
   "source": [
    "#captures first part of split from .str[0] , for other part it should be .str[1]   \n",
    "#(or) \n",
    "# first part of the string \n",
    "df['Span'].str[0:4]\n",
    "df['Span'].str.split(pat='-').str[0]"
   ]
  },
  {
   "cell_type": "code",
   "execution_count": null,
   "metadata": {},
   "outputs": [],
   "source": [
    "\n",
    "\n",
    "# second part of the string \n",
    "# df['Span'].str[5:9]\n",
    "# df['Span'].str.split(pat='-').str[1]"
   ]
  },
  {
   "cell_type": "code",
   "execution_count": null,
   "metadata": {},
   "outputs": [],
   "source": [
    "#creating new column as start year with in the dataframe\n",
    "df['Start_Year']=df['Span'].str.split(pat='-').str[0]"
   ]
  },
  {
   "cell_type": "code",
   "execution_count": null,
   "metadata": {},
   "outputs": [],
   "source": [
    "##creating new column as end year with in the dataframe\n",
    "df['End_Year']=df['Span'].str.split(pat='-').str[1]"
   ]
  },
  {
   "cell_type": "code",
   "execution_count": null,
   "metadata": {},
   "outputs": [],
   "source": [
    "#Drop Span column\n",
    "df=df.drop(['Span'],axis=1)"
   ]
  },
  {
   "cell_type": "code",
   "execution_count": null,
   "metadata": {},
   "outputs": [],
   "source": [
    "\n",
    "df['Country']=df['Player'].str.split(pat='(').str[1]  #let it be ending with ')'ArithmeticError\n",
    "# #now will split further country column data like below\n",
    "df['Country']=df['Country'].str.split(pat=')').str[0] # this will store the country name deatils into country column\n",
    "##creating new column as end year with in the dataframe\n",
    "df['Player']=df['Player'].str.split(pat='(').str[0]\n",
    "#below is the other way using regular expression"
   ]
  },
  {
   "cell_type": "code",
   "execution_count": null,
   "metadata": {},
   "outputs": [],
   "source": [
    "#Creating multiple column from a single column having data like name and country mentioned in () split using regular expression \n",
    "#df[['Player_Name','Country']]=df['Player'].str.extract (r'(.+)\\s\\((.+)\\)')"
   ]
  },
  {
   "cell_type": "code",
   "execution_count": null,
   "metadata": {},
   "outputs": [],
   "source": [
    "#check the data types\n",
    "df.dtypes"
   ]
  },
  {
   "cell_type": "code",
   "execution_count": null,
   "metadata": {},
   "outputs": [],
   "source": [
    "#splitting * from the data in Highest_Inns_Score\n",
    "df['Highest_Inns_Score']=df['Highest_Inns_Score'].str.split(pat='*').str[0]"
   ]
  },
  {
   "cell_type": "code",
   "execution_count": null,
   "metadata": {},
   "outputs": [],
   "source": [
    "#changing data type to integer from object using astype() method\n",
    "df['Highest_Inns_Score']=df['Highest_Inns_Score'].astype('int')"
   ]
  },
  {
   "cell_type": "code",
   "execution_count": null,
   "metadata": {},
   "outputs": [],
   "source": [
    "df['Balls_Faced']=df['Balls_Faced'].str.split(pat='+').str[0]"
   ]
  },
  {
   "cell_type": "code",
   "execution_count": null,
   "metadata": {},
   "outputs": [],
   "source": [
    "#df['Balls_Faced']=df['Balls_Faced'].astype('int')\n",
    "df['Balls_Faced'].isna().any()\n",
    "df['Balls_Faced']=df['Balls_Faced'].fillna(0)\n"
   ]
  },
  {
   "cell_type": "code",
   "execution_count": null,
   "metadata": {},
   "outputs": [],
   "source": [
    "#convert object to integer\n",
    "df['Balls_Faced']=df['Balls_Faced'].astype('int')"
   ]
  },
  {
   "cell_type": "code",
   "execution_count": null,
   "metadata": {},
   "outputs": [],
   "source": [
    "#df['Start_Year'].isna().any()\n",
    "#df['Start_Year']=df['Start_Year'].fillna(0)\n",
    "df['Start_Year']=df['Start_Year'].astype(int)\n"
   ]
  },
  {
   "cell_type": "code",
   "execution_count": null,
   "metadata": {},
   "outputs": [],
   "source": [
    "#df['End_Year'].isna().any()\n",
    "#df['End_Year']=df['End_Year'].fillna(0)\n",
    "df['End_Year']=df['End_Year'].astype(int)\n",
    "\n"
   ]
  },
  {
   "cell_type": "code",
   "execution_count": null,
   "metadata": {},
   "outputs": [],
   "source": [
    "#alternate way to change data type for multiple columns\n",
    "df=df.astype({'End_Year':int,'Start_Year':int})"
   ]
  },
  {
   "cell_type": "code",
   "execution_count": null,
   "metadata": {},
   "outputs": [],
   "source": [
    "#drop /delete specific row data in data frame\n",
    "\n",
    "df.drop(index=65)\n",
    "#either ways we can delete row from data frame\n",
    "df.drop(65,axis=0)\n"
   ]
  },
  {
   "cell_type": "code",
   "execution_count": null,
   "metadata": {},
   "outputs": [],
   "source": [
    "#Create a new column career output\n",
    "df['Career_Length']=df['End_Year']-df['Start_Year']\n"
   ]
  },
  {
   "cell_type": "markdown",
   "metadata": {},
   "source": [
    "#Calculations with DataFrames"
   ]
  },
  {
   "cell_type": "code",
   "execution_count": null,
   "metadata": {},
   "outputs": [],
   "source": [
    "#>>>Question1 Cricketers in this data frame what is the average career length\n",
    "Career_Length_avg=df['Career_Length'].mean()\n",
    "print(f'Average_Career_Length:{Career_Length_avg}')"
   ]
  },
  {
   "cell_type": "code",
   "execution_count": null,
   "metadata": {},
   "outputs": [],
   "source": [
    "#>>>Question2 Average Strike rate of the cricket palyers who played over 10 years\n",
    "Average_Strike_rate=df[df['Career_Length']>10]['Batting_Strike_Rate'].mean()\n",
    "print(f'Average_Strike_rate_for_players_over_10years:{Average_Strike_rate}')"
   ]
  },
  {
   "cell_type": "code",
   "execution_count": null,
   "metadata": {},
   "outputs": [],
   "source": [
    "#>>>Question3 Find number of cricketers who played before 1960\n",
    "players_count=df[df['End_Year']<1960]['Player'].count()\n",
    "print(f'count of players palyed before 1960:{players_count}')"
   ]
  },
  {
   "cell_type": "code",
   "execution_count": null,
   "metadata": {},
   "outputs": [],
   "source": [
    "#>>>Question4 Max highest innings scored by country\n",
    "#Grouping by 'Country':df.groupby('Country')\n",
    "#Selecting the 'Highest_Inns_Score' column and finding the maximum value in each group:['Highest_Inns_Score'].max()\n",
    "#Converting the Series to a DataFrame:.to_frame('Highest_Innings_Country')\n",
    "#Resetting the index: .reset_index()\n",
    "#Sorting the DataFrame:sort_values('Highest_Innings_Country',ascending=False)\n",
    "Max_innings_country=df.groupby('Country')['Highest_Inns_Score'].max().to_frame('Highest_Innings_Country').reset_index().sort_values('Highest_Innings_Country',ascending=False)\n",
    "print(f'Max highest innings scored by country\\n:{Max_innings_country}')"
   ]
  },
  {
   "cell_type": "code",
   "execution_count": null,
   "metadata": {},
   "outputs": [],
   "source": [
    "#>>>Question5 five hundereds, fifties, ducks(0) Avg by country\n",
    "d"
   ]
  }
 ],
 "metadata": {
  "kernelspec": {
   "display_name": "Python 3",
   "language": "python",
   "name": "python3"
  },
  "language_info": {
   "codemirror_mode": {
    "name": "ipython",
    "version": 3
   },
   "file_extension": ".py",
   "mimetype": "text/x-python",
   "name": "python",
   "nbconvert_exporter": "python",
   "pygments_lexer": "ipython3",
   "version": "3.12.4"
  }
 },
 "nbformat": 4,
 "nbformat_minor": 2
}
